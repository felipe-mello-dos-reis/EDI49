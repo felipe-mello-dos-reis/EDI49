{
 "cells": [
  {
   "cell_type": "code",
   "execution_count": 1,
   "metadata": {},
   "outputs": [],
   "source": [
    "import numpy as np\n",
    "import matplotlib.pyplot as plt\n",
    "from matplotlib.colors import ListedColormap\n",
    "import time\n",
    "from EntradaDeDadosSecaoCritica import EntradaDeDadosSecaoCritica \n"
   ]
  },
  {
   "cell_type": "code",
   "execution_count": 2,
   "metadata": {},
   "outputs": [],
   "source": [
    "\n",
    "TI = time.process_time()\n",
    "# Call the data entry function\n",
    "Xc, Yc, INC, Nc, gamma_c, sigma_min, sigma_max, dp, eta, F = EntradaDeDadosSecaoCritica()\n",
    "# The above function is not defined in the provided code, so I'll assume these variables are globally defined\n",
    "AREA = 0\n",
    "Sx = 0\n",
    "Sy = 0\n",
    "for I in range(Nc):\n",
    "    ai = Xc[I] * Yc[I+1] - Xc[I+1] * Yc[I]\n",
    "    AREA += ai\n",
    "    Sx += ai * (Yc[I] + Yc[I+1])\n",
    "    Sy += ai * (Xc[I] + Xc[I+1])\n",
    "AREA /= 2\n",
    "Sx /= 6\n",
    "Sy /= 6\n",
    "Xcg = Sy / AREA\n",
    "Ycg = Sx / AREA\n",
    "# Translation of coordinates\n",
    "for I in range(Nc+1):\n",
    "    Xc[I] -= Xcg\n",
    "    Yc[I] -= Ycg\n",
    "AREA = 0\n",
    "Sx = 0\n",
    "Sy = 0\n",
    "Ixx = 0\n",
    "Iyy = 0\n",
    "Ixy = 0\n",
    "for I in range(Nc):\n",
    "    ai = Xc[I] * Yc[I+1] - Xc[I+1] * Yc[I]\n",
    "    AREA += ai\n",
    "    Sx += ai * (Yc[I] + Yc[I+1])\n",
    "    Sy += ai * (Xc[I] + Xc[I+1])\n",
    "    Ixx += ai * (Yc[I]**2 + Yc[I] * Yc[I+1] + Yc[I+1]**2)\n",
    "    Iyy += ai * (Xc[I]**2 + Xc[I] * Xc[I+1] + Xc[I+1]**2)\n",
    "    Ixy += ai * (Xc[I] * Yc[I+1] + 2 * (Xc[I] * Yc[I] + Xc[I+1] * Yc[I+1]) + Xc[I+1] * Yc[I])\n",
    "SINAL_DA_CIRCUICAO = AREA\n",
    "if SINAL_DA_CIRCUICAO > 0:\n",
    "    AREA /= 2\n",
    "    Sx /= 6\n",
    "    Sy /= 6\n",
    "    Ixx /= 12\n",
    "    Iyy /= 12\n",
    "    Ixy /= 24\n",
    "else:\n",
    "    AREA /= -2\n",
    "    Sx /= -6\n",
    "    Sy /= -6\n",
    "    Ixx /= -12\n",
    "    Iyy /= -12\n",
    "    Ixy /= -24\n",
    "yb = abs(min(Yc))\n",
    "yt = abs(max(Yc))\n",
    "I = Ixx\n",
    "Wb = I/yb\n",
    "Wt = I/yt\n",
    "kb = Wt/AREA\n",
    "kt = Wb/AREA\n",
    "\n",
    "\n"
   ]
  },
  {
   "cell_type": "code",
   "execution_count": 3,
   "metadata": {},
   "outputs": [
    {
     "name": "stdout",
     "output_type": "stream",
     "text": [
      "Fase 1:\n",
      "\tMomento fletor máximo: 54298.75000000001 kN.cm\n",
      "\tPosição do momento fletor máximo: 1100.0 cm\n",
      "Fase 2:\n",
      "\tMomento fletor máximo: 93623.75 kN.cm\n",
      "\tPosição do momento fletor máximo: 1100.0 cm\n"
     ]
    }
   ],
   "source": [
    "L = 2200  # cm\n",
    "q_load = 0.065  # kN/cm2\n",
    "Lspan = np.linspace(0, L, L+1)\n",
    "g = np.zeros((len(Lspan), len(eta)))\n",
    "q = np.zeros((len(Lspan), len(eta)))\n",
    "M = np.zeros((len(Lspan), len(eta)))\n",
    "\n",
    "for z in range(len(Lspan)):\n",
    "    g[z, 0] = gamma_c * AREA\n",
    "    g[z, 1] = gamma_c * AREA\n",
    "    q[z, 0] = 0\n",
    "    q[z, 1] = q_load\n",
    "    M[z, 0] = abs((g[z, 0] + q[z, 0]) * Lspan[z]**2 / 2 - gamma_c * AREA * L / 2 * Lspan[z])\n",
    "    M[z, 1] = abs((g[z, 1] + q[z, 1]) * Lspan[z]**2 / 2 - (gamma_c * AREA + q_load) * L / 2 * Lspan[z])\n",
    "\n",
    "M_cric = np.zeros(len(eta))\n",
    "z_cric = np.zeros(len(eta))\n",
    "coef_ang_e_min = np.zeros((2, len(eta)))\n",
    "coef_ang_e_max = np.zeros((2, len(eta)))\n",
    "\n",
    "for i in range(len(eta)):\n",
    "    M_cric[i], z_cric[i] = np.max(M[:, i]), np.argmax(M[:, i])\n",
    "    print(f'Fase {i+1}:')\n",
    "    print(f'\\tMomento fletor máximo: {M_cric[i]} kN.cm')\n",
    "    print(f'\\tPosição do momento fletor máximo: {Lspan[int(z_cric[i])]} cm')\n",
    "\n",
    "    coef_ang_e_min[0, i] = (M_cric[i] + Wb * sigma_min[i]) / eta[i]\n",
    "    coef_ang_e_min[1, i] = (M_cric[i] - Wt * sigma_max[i]) / eta[i]\n",
    "    coef_ang_e_max[0, i] = (M_cric[i] + Wb * sigma_max[i]) / eta[i]\n",
    "    coef_ang_e_max[1, i] = (M_cric[i] - Wt * sigma_min[i]) / eta[i]\n",
    "\n",
    "# Define the range of x and y\n",
    "invF = np.linspace(0, 1.5 * 1e-3, 1001)\n",
    "e = np.linspace(-yt, yb, 1001)\n",
    "\n",
    "a_e_max = np.zeros(3)\n",
    "a_e_max[0] = np.min(coef_ang_e_max[0, :])\n",
    "a_e_max[1] = np.min(coef_ang_e_max[1, :])\n",
    "\n",
    "a_e_min = np.zeros(3)\n",
    "a_e_min[0] = np.max(coef_ang_e_min[0, :])\n",
    "a_e_min[1] = np.max(coef_ang_e_min[1, :])\n",
    "\n",
    "b_e_min = np.zeros(3)\n",
    "b_e_min[0] = -kt\n",
    "b_e_min[1] = kb\n",
    "b_e_min[2] = -(yt - dp)\n",
    "\n",
    "b_e_max = np.zeros(3)\n",
    "b_e_max[0] = -kt\n",
    "b_e_max[1] = kb\n",
    "b_e_max[2] = yb - dp"
   ]
  },
  {
   "cell_type": "code",
   "execution_count": 4,
   "metadata": {},
   "outputs": [
    {
     "data": {
      "image/png": "[encoded data removed]",
      "text/plain": [
       "<Figure size 432x288 with 1 Axes>"
      ]
     },
     "metadata": {
      "needs_background": "light"
     },
     "output_type": "display_data"
    }
   ],
   "source": [
    "\n",
    "# Plotting\n",
    "plt.figure(1)\n",
    "plt.plot(Xc, Yc, '-b')\n",
    "plt.xlabel('x (cm)')\n",
    "plt.ylabel('y (cm)')\n",
    "plt.title('Secao Transversal')\n",
    "plt.axis('equal')\n",
    "plt.xlim([min(min(Xc), min(Yc))*1.25, max(max(Xc), max(Yc))*1.25])\n",
    "plt.ylim([min(min(Xc), min(Yc))*1.25, max(max(Xc), max(Yc))*1.25])\n",
    "plt.show()"
   ]
  },
  {
   "cell_type": "code",
   "execution_count": 5,
   "metadata": {},
   "outputs": [
    {
     "data": {
      "image/png": "[encoded data removed]",
      "text/plain": [
       "<Figure size 432x288 with 1 Axes>"
      ]
     },
     "metadata": {
      "needs_background": "light"
     },
     "output_type": "display_data"
    },
    {
     "name": "stdout",
     "output_type": "stream",
     "text": [
      "O valor máximo de F é 1114.8272017837235 kN/cm^2\n",
      "O valor máximo de e é [59.9876156] cm\n",
      "SOLUÇÃO CONCLUÍDA\n",
      "\n",
      "\n",
      "TRABALHO COMPUTACIONAL, SEGUNDOS 0.963780927\n"
     ]
    }
   ],
   "source": [
    "# Create a grid of points\n",
    "INVF, E = np.meshgrid(invF, e)\n",
    "\n",
    "# Define the inequalities\n",
    "I = E >= a_e_min[0]*INVF + b_e_min[0]\n",
    "II = E <= a_e_max[0]*INVF + b_e_max[0]\n",
    "III = E <= a_e_max[1]*INVF + b_e_max[1]\n",
    "IV = E >= a_e_min[1]*INVF + b_e_min[1]\n",
    "Vb = E <= a_e_max[2]*INVF + b_e_max[2]\n",
    "Vt = E >= a_e_min[2]*INVF + b_e_min[2]\n",
    "\n",
    "# Combine the inequalities\n",
    "Z = I & II & III & IV & Vb & Vt\n",
    "\n",
    "# Plot the region that satisfies all inequalities\n",
    "plt.figure(2)\n",
    "# Create a custom colormap\n",
    "cmap = ListedColormap(['white', 'yellow'])\n",
    "plt.imshow(Z, extent=(np.min(INVF), np.max(INVF), np.min(E), np.max(E)), origin='lower', cmap=cmap, aspect='auto')\n",
    "plt.gca().invert_yaxis()\n",
    "\n",
    "for i in range(len(eta)+1):\n",
    "    plt.plot(invF, a_e_min[i]*invF + b_e_min[i])\n",
    "    plt.plot(invF, a_e_max[i]*invF + b_e_max[i])\n",
    "\n",
    "plt.xlabel('1/F (kN^-1)')\n",
    "plt.ylabel('e (cm)')\n",
    "plt.legend(['I','II','IV','III','Vt','Vb'])\n",
    "plt.title('Diagrama de Magnel')\n",
    "plt.xlim([0, np.max(invF)])\n",
    "plt.ylim([-yt, yb])\n",
    "plt.gca().invert_yaxis()\n",
    "plt.show()\n",
    "\n",
    "# Find the indices where Z is true\n",
    "indices = np.where(Z)\n",
    "\n",
    "# Get the corresponding values of INVF\n",
    "INVF_values = INVF[indices]\n",
    "\n",
    "# Find the maximum value\n",
    "max_INVF = np.max(INVF_values)\n",
    "\n",
    "# Get the corresponding values of E\n",
    "E_values = E[indices]\n",
    "\n",
    "# Find the E value corresponding to the maximum INVF value\n",
    "max_E_index = np.where(INVF_values == max_INVF)\n",
    "max_E = E_values[max_E_index]\n",
    "\n",
    "print(f'O valor máximo de F é {1/max_INVF} kN/cm^2')\n",
    "print(f'O valor máximo de e é {max_E} cm')\n",
    "\n",
    "print('SOLUÇÃO CONCLUÍDA\\n\\n')\n",
    "TF = time.process_time()\n",
    "print(f'TRABALHO COMPUTACIONAL, SEGUNDOS {TF - TI}')"
   ]
  }
 ],
 "metadata": {
  "kernelspec": {
   "display_name": "Python 3",
   "language": "python",
   "name": "python3"
  },
  "language_info": {
   "codemirror_mode": {
    "name": "ipython",
    "version": 3
   },
   "file_extension": ".py",
   "mimetype": "text/x-python",
   "name": "python",
   "nbconvert_exporter": "python",
   "pygments_lexer": "ipython3",
   "version": "3.10.12"
  }
 },
 "nbformat": 4,
 "nbformat_minor": 2
}
