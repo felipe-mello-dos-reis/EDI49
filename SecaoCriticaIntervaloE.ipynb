{
 "cells": [
  {
   "cell_type": "code",
   "execution_count": 23,
   "metadata": {},
   "outputs": [],
   "source": [
    "import numpy as np\n",
    "import matplotlib.pyplot as plt\n",
    "import time\n",
    "from EntradaDeDadosSecaoCritica import EntradaDeDadosSecaoCritica \n"
   ]
  },
  {
   "cell_type": "code",
   "execution_count": 24,
   "metadata": {},
   "outputs": [],
   "source": [
    "\n",
    "TI = time.process_time()\n",
    "# Call the data entry function\n",
    "Xc, Yc, INC, Nc, gamma_c, sigma_min, sigma_max, dp, eta, F = EntradaDeDadosSecaoCritica()\n",
    "# The above function is not defined in the provided code, so I'll assume these variables are globally defined\n",
    "AREA = 0\n",
    "Sx = 0\n",
    "Sy = 0\n",
    "for I in range(Nc):\n",
    "    ai = Xc[I] * Yc[I+1] - Xc[I+1] * Yc[I]\n",
    "    AREA += ai\n",
    "    Sx += ai * (Yc[I] + Yc[I+1])\n",
    "    Sy += ai * (Xc[I] + Xc[I+1])\n",
    "AREA /= 2\n",
    "Sx /= 6\n",
    "Sy /= 6\n",
    "Xcg = Sy / AREA\n",
    "Ycg = Sx / AREA\n",
    "# Translation of coordinates\n",
    "for I in range(Nc+1):\n",
    "    Xc[I] -= Xcg\n",
    "    Yc[I] -= Ycg\n",
    "AREA = 0\n",
    "Sx = 0\n",
    "Sy = 0\n",
    "Ixx = 0\n",
    "Iyy = 0\n",
    "Ixy = 0\n",
    "for I in range(Nc):\n",
    "    ai = Xc[I] * Yc[I+1] - Xc[I+1] * Yc[I]\n",
    "    AREA += ai\n",
    "    Sx += ai * (Yc[I] + Yc[I+1])\n",
    "    Sy += ai * (Xc[I] + Xc[I+1])\n",
    "    Ixx += ai * (Yc[I]**2 + Yc[I] * Yc[I+1] + Yc[I+1]**2)\n",
    "    Iyy += ai * (Xc[I]**2 + Xc[I] * Xc[I+1] + Xc[I+1]**2)\n",
    "    Ixy += ai * (Xc[I] * Yc[I+1] + 2 * (Xc[I] * Yc[I] + Xc[I+1] * Yc[I+1]) + Xc[I+1] * Yc[I])\n",
    "SINAL_DA_CIRCUICAO = AREA\n",
    "if SINAL_DA_CIRCUICAO > 0:\n",
    "    AREA /= 2\n",
    "    Sx /= 6\n",
    "    Sy /= 6\n",
    "    Ixx /= 12\n",
    "    Iyy /= 12\n",
    "    Ixy /= 24\n",
    "else:\n",
    "    AREA /= -2\n",
    "    Sx /= -6\n",
    "    Sy /= -6\n",
    "    Ixx /= -12\n",
    "    Iyy /= -12\n",
    "    Ixy /= -24\n",
    "yb = abs(min(Yc))\n",
    "yt = abs(max(Yc))\n",
    "I = Ixx\n",
    "Wb = I/yb\n",
    "Wt = I/yt\n",
    "kb = Wt/AREA\n",
    "kt = Wb/AREA\n",
    "\n",
    "\n"
   ]
  },
  {
   "cell_type": "code",
   "execution_count": 25,
   "metadata": {},
   "outputs": [
    {
     "name": "stdout",
     "output_type": "stream",
     "text": [
      "Fase 1:\n",
      "\tMomento fletor máximo: 54298.75000000001 kN.cm\n",
      "\tPosição do momento fletor máximo: 1100.0 cm\n",
      "Fase 2:\n",
      "\tMomento fletor máximo: 93623.75 kN.cm\n",
      "\tPosição do momento fletor máximo: 1100.0 cm\n",
      "\n",
      "\n",
      "e >= 27.216137162223163 cm\n",
      "e <= 55.084310698392414 cm\n"
     ]
    }
   ],
   "source": [
    "L = 2200  # cm\n",
    "q_load = 0.065  # kN/cm2\n",
    "Lspan = np.linspace(0, L, L+1)\n",
    "g = np.zeros((len(Lspan), len(eta)))\n",
    "q = np.zeros((len(Lspan), len(eta)))\n",
    "M = np.zeros((len(Lspan), len(eta)))\n",
    "\n",
    "for z in range(len(Lspan)):\n",
    "    g[z, 0] = gamma_c * AREA\n",
    "    g[z, 1] = gamma_c * AREA\n",
    "    q[z, 0] = 0\n",
    "    q[z, 1] = q_load\n",
    "    M[z, 0] = abs((g[z, 0] + q[z, 0]) * Lspan[z]**2 / 2 - gamma_c * AREA * L / 2 * Lspan[z])\n",
    "    M[z, 1] = abs((g[z, 1] + q[z, 1]) * Lspan[z]**2 / 2 - (gamma_c * AREA + q_load) * L / 2 * Lspan[z])\n",
    "\n",
    "M_cric = np.zeros(len(eta))\n",
    "z_cric = np.zeros(len(eta))\n",
    "e_min_cric = np.zeros(len(eta) * 2 + 1)\n",
    "e_max_cric = np.zeros(len(eta) * 2 + 1)\n",
    "\n",
    "for i in range(len(eta)):\n",
    "    M_cric[i], z_cric[i] = np.max(M[:, i]), np.argmax(M[:, i])\n",
    "    print(f'Fase {i+1}:')\n",
    "    print(f'\\tMomento fletor máximo: {M_cric[i]} kN.cm')\n",
    "    print(f'\\tPosição do momento fletor máximo: {Lspan[int(z_cric[i])]} cm')\n",
    "\n",
    "    e_min_cric[2*i] = 1 / F[i] * (M_cric[i] + Wb * sigma_min[i]) - kt\n",
    "    e_min_cric[2*i + 1] = 1 / F[i] * (M_cric[i] - Wt * sigma_max[i]) + kb\n",
    "    e_max_cric[2*i] = 1 / F[i] * (M_cric[i] + Wb * sigma_max[i]) - kt\n",
    "    e_max_cric[2*i + 1] = 1 / F[i] * (M_cric[i] - Wt * sigma_min[i]) + kb\n",
    "\n",
    "e_min_cric[len(eta)*2] = -(yt - dp)\n",
    "e_max_cric[len(eta)*2] = yb - dp\n",
    "\n",
    "e_min_f = np.max(e_min_cric)\n",
    "e_max_f = np.min(e_max_cric)\n",
    "\n",
    "print('\\n')\n",
    "print(f'e >= {e_min_f} cm')\n",
    "print(f'e <= {e_max_f} cm')"
   ]
  },
  {
   "cell_type": "code",
   "execution_count": 26,
   "metadata": {},
   "outputs": [
    {
     "data": {
      "image/png": "[encoded data removed]",
      "text/plain": [
       "<Figure size 432x288 with 1 Axes>"
      ]
     },
     "metadata": {
      "needs_background": "light"
     },
     "output_type": "display_data"
    },
    {
     "name": "stdout",
     "output_type": "stream",
     "text": [
      "SOLUÇÃO CONCLUÍDA\n",
      "\n",
      "\n",
      "TRABALHO COMPUTACIONAL, SEGUNDOS 5.203947e-01\n",
      "\n"
     ]
    }
   ],
   "source": [
    "\n",
    "# Plotting\n",
    "plt.figure(1)\n",
    "plt.plot(Xc, Yc, '-b')\n",
    "plt.xlabel('x (cm)')\n",
    "plt.ylabel('y (cm)')\n",
    "plt.title('Secao Transversal')\n",
    "plt.axis('equal')\n",
    "plt.xlim([min(min(Xc), min(Yc))*1.25, max(max(Xc), max(Yc))*1.25])\n",
    "plt.ylim([min(min(Xc), min(Yc))*1.25, max(max(Xc), max(Yc))*1.25])\n",
    "plt.show()\n",
    "print('SOLUÇÃO CONCLUÍDA\\n\\n')\n",
    "TF = time.process_time()\n",
    "print('TRABALHO COMPUTACIONAL, SEGUNDOS %e\\n' % (TF - TI))"
   ]
  }
 ],
 "metadata": {
  "kernelspec": {
   "display_name": "Python 3",
   "language": "python",
   "name": "python3"
  },
  "language_info": {
   "codemirror_mode": {
    "name": "ipython",
    "version": 3
   },
   "file_extension": ".py",
   "mimetype": "text/x-python",
   "name": "python",
   "nbconvert_exporter": "python",
   "pygments_lexer": "ipython3",
   "version": "3.10.12"
  }
 },
 "nbformat": 4,
 "nbformat_minor": 2
}
